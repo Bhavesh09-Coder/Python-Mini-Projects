{
 "cells": [
  {
   "cell_type": "markdown",
   "id": "d7a659b8-f13c-454c-915f-362a4e7f4b60",
   "metadata": {},
   "source": [
    "# Text-Based Loan Calculator:"
   ]
  },
  {
   "cell_type": "code",
   "execution_count": null,
   "id": "ad3bfde8-5efe-42b2-a3c5-72b5e7d15e94",
   "metadata": {},
   "outputs": [
    {
     "name": "stdout",
     "output_type": "stream",
     "text": [
      "Welcome to the Loan Repayment Calculator\n"
     ]
    }
   ],
   "source": [
    "import math\n",
    "\n",
    "def calculate_monthly_payment(principal, annual_interest_rate, years):\n",
    "    \"\"\"\n",
    "    Calculate the monthly payment for a loan.\n",
    "    \n",
    "    :param principal: The loan amount (principal).\n",
    "    :param annual_interest_rate: The annual interest rate (as a percentage).\n",
    "    :param years: The number of years to repay the loan.\n",
    "    :return: The monthly payment amount.\n",
    "    \"\"\"\n",
    "    monthly_interest_rate = annual_interest_rate / 100 / 12  # Convert annual rate to monthly and percentage to decimal\n",
    "    number_of_payments = years * 12  # Total number of monthly payments\n",
    "\n",
    "    if monthly_interest_rate == 0:  # Special case for zero interest rate\n",
    "        return principal / number_of_payments\n",
    "\n",
    "    # Formula to calculate the monthly payment\n",
    "    monthly_payment = principal * (monthly_interest_rate * math.pow(1 + monthly_interest_rate, number_of_payments)) / (math.pow(1 + monthly_interest_rate, number_of_payments) - 1)\n",
    "    return monthly_payment\n",
    "\n",
    "def calculate_repayment_schedule(principal, annual_interest_rate, years):\n",
    "    \"\"\"\n",
    "    Calculate the full repayment schedule for a loan.\n",
    "    \n",
    "    :param principal: The loan amount (principal).\n",
    "    :param annual_interest_rate: The annual interest rate (as a percentage).\n",
    "    :param years: The number of years to repay the loan.\n",
    "    :return: A list of dictionaries representing the repayment schedule.\n",
    "    \"\"\"\n",
    "    monthly_payment = calculate_monthly_payment(principal, annual_interest_rate, years)\n",
    "    balance = principal\n",
    "    schedule = []\n",
    "\n",
    "    for month in range(1, years * 12 + 1):\n",
    "        interest_payment = balance * (annual_interest_rate / 100 / 12)\n",
    "        principal_payment = monthly_payment - interest_payment\n",
    "        balance -= principal_payment\n",
    "\n",
    "        schedule.append({\n",
    "            'Month': month,\n",
    "            'Interest Payment': round(interest_payment, 2),\n",
    "            'Principal Payment': round(principal_payment, 2),\n",
    "            'Remaining Balance': round(balance, 2)\n",
    "        })\n",
    "\n",
    "    return schedule\n",
    "\n",
    "def display_schedule(schedule):\n",
    "    \"\"\"\n",
    "    Display the repayment schedule in a readable format.\n",
    "    \n",
    "    :param schedule: The repayment schedule as a list of dictionaries.\n",
    "    \"\"\"\n",
    "    print(\"{:<10} {:<20} {:<20} {:<20}\".format('Month', 'Interest Payment', 'Principal Payment', 'Remaining Balance'))\n",
    "    for payment in schedule:\n",
    "        print(\"{:<10} {:<20} {:<20} {:<20}\".format(payment['Month'], payment['Interest Payment'], payment['Principal Payment'], payment['Remaining Balance']))\n",
    "\n",
    "def main():\n",
    "    \"\"\"\n",
    "    Main function to run the loan calculator.\n",
    "    \"\"\"\n",
    "    print(\"Welcome to the Loan Repayment Calculator\")\n",
    "    principal = float(input(\"Enter the loan amount (principal): \"))\n",
    "    annual_interest_rate = float(input(\"Enter the annual interest rate (as a percentage): \"))\n",
    "    years = int(input(\"Enter the number of years to repay the loan: \"))\n",
    "\n",
    "    monthly_payment = calculate_monthly_payment(principal, annual_interest_rate, years)\n",
    "    print(f\"\\nYour monthly payment will be: ${round(monthly_payment, 2)}\")\n",
    "\n",
    "    schedule = calculate_repayment_schedule(principal, annual_interest_rate, years)\n",
    "    print(\"\\nRepayment Schedule:\")\n",
    "    display_schedule(schedule)\n",
    "\n",
    "if __name__ == \"__main__\":\n",
    "    main()\n"
   ]
  },
  {
   "cell_type": "code",
   "execution_count": null,
   "id": "4a145ba7-91c1-48ef-a8d9-8a834d95c17c",
   "metadata": {},
   "outputs": [],
   "source": []
  }
 ],
 "metadata": {
  "kernelspec": {
   "display_name": "Python 3 (ipykernel)",
   "language": "python",
   "name": "python3"
  },
  "language_info": {
   "codemirror_mode": {
    "name": "ipython",
    "version": 3
   },
   "file_extension": ".py",
   "mimetype": "text/x-python",
   "name": "python",
   "nbconvert_exporter": "python",
   "pygments_lexer": "ipython3",
   "version": "3.12.3"
  }
 },
 "nbformat": 4,
 "nbformat_minor": 5
}
