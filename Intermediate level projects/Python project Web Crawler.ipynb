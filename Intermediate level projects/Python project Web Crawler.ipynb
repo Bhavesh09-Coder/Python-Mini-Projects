{
 "cells": [
  {
   "cell_type": "markdown",
   "id": "494f964e-0091-41e0-be47-8b72241368c1",
   "metadata": {},
   "source": [
    "# Web Crawler Project"
   ]
  },
  {
   "cell_type": "code",
   "execution_count": 4,
   "id": "3210acb7-c8cb-472d-80bb-ed414cfb1f7c",
   "metadata": {},
   "outputs": [
    {
     "ename": "NameError",
     "evalue": "name '_name_' is not defined",
     "output_type": "error",
     "traceback": [
      "\u001b[1;31m---------------------------------------------------------------------------\u001b[0m",
      "\u001b[1;31mNameError\u001b[0m                                 Traceback (most recent call last)",
      "Cell \u001b[1;32mIn[4], line 39\u001b[0m\n\u001b[0;32m     35\u001b[0m                 \u001b[38;5;28mself\u001b[39m\u001b[38;5;241m.\u001b[39m_crawl(full_url, depth \u001b[38;5;241m+\u001b[39m \u001b[38;5;241m1\u001b[39m)\n\u001b[0;32m     37\u001b[0m         time\u001b[38;5;241m.\u001b[39msleep(\u001b[38;5;241m1\u001b[39m)  \u001b[38;5;66;03m# Be polite and avoid overwhelming the server\u001b[39;00m\n\u001b[1;32m---> 39\u001b[0m \u001b[38;5;28;01mif\u001b[39;00m \u001b[43m_name_\u001b[49m \u001b[38;5;241m==\u001b[39m \u001b[38;5;124m\"\u001b[39m\u001b[38;5;124m_main_\u001b[39m\u001b[38;5;124m\"\u001b[39m:\n\u001b[0;32m     40\u001b[0m     base_url \u001b[38;5;241m=\u001b[39m \u001b[38;5;124m\"\u001b[39m\u001b[38;5;124mhttp://example.com\u001b[39m\u001b[38;5;124m\"\u001b[39m  \u001b[38;5;66;03m# Replace with the starting URL\u001b[39;00m\n\u001b[0;32m     41\u001b[0m     max_depth \u001b[38;5;241m=\u001b[39m \u001b[38;5;241m2\u001b[39m  \u001b[38;5;66;03m# Define how deep the crawler should go\u001b[39;00m\n",
      "\u001b[1;31mNameError\u001b[0m: name '_name_' is not defined"
     ]
    }
   ],
   "source": [
    "import requests\n",
    "from bs4 import BeautifulSoup\n",
    "from urllib.parse import urljoin\n",
    "import time\n",
    "\n",
    "class WebCrawler:\n",
    "    def _init_(self, base_url, max_depth):\n",
    "        self.base_url = base_url\n",
    "        self.max_depth = max_depth\n",
    "        self.visited_urls = set()\n",
    "\n",
    "    def crawl(self):\n",
    "        self._crawl(self.base_url, 0)\n",
    "\n",
    "    def _crawl(self, url, depth):\n",
    "        if depth > self.max_depth or url in self.visited_urls:\n",
    "            return\n",
    "\n",
    "        print(f\"Crawling: {url} at depth: {depth}\")\n",
    "        self.visited_urls.add(url)\n",
    "\n",
    "        try:\n",
    "            response = requests.get(url)\n",
    "            response.raise_for_status()  # Raise an error for bad status codes\n",
    "        except requests.RequestException as e:\n",
    "            print(f\"Failed to fetch {url}: {e}\")\n",
    "            return\n",
    "\n",
    "        soup = BeautifulSoup(response.text, 'html.parser')\n",
    "\n",
    "        # Extract and follow all links\n",
    "        for link in soup.find_all('a', href=True):\n",
    "            full_url = urljoin(url, link['href'])\n",
    "            if full_url.startswith(self.base_url):  # Only follow links within the base domain\n",
    "                self._crawl(full_url, depth + 1)\n",
    "\n",
    "        time.sleep(1)  # Be polite and avoid overwhelming the server\n",
    "\n",
    "if _name_ == \"_main_\":\n",
    "    base_url = \"http://example.com\"  # Replace with the starting URL\n",
    "    max_depth = 2  # Define how deep the crawler should go\n",
    "\n",
    "    crawler = WebCrawler(base_url, max_depth)\n",
    "    crawler.crawl()"
   ]
  },
  {
   "cell_type": "code",
   "execution_count": null,
   "id": "ad3bfde8-5efe-42b2-a3c5-72b5e7d15e94",
   "metadata": {},
   "outputs": [],
   "source": []
  }
 ],
 "metadata": {
  "kernelspec": {
   "display_name": "Python 3 (ipykernel)",
   "language": "python",
   "name": "python3"
  },
  "language_info": {
   "codemirror_mode": {
    "name": "ipython",
    "version": 3
   },
   "file_extension": ".py",
   "mimetype": "text/x-python",
   "name": "python",
   "nbconvert_exporter": "python",
   "pygments_lexer": "ipython3",
   "version": "3.12.3"
  }
 },
 "nbformat": 4,
 "nbformat_minor": 5
}
