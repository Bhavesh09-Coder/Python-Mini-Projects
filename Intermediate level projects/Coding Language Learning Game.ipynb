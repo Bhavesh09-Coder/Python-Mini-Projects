{
 "cells": [
  {
   "cell_type": "markdown",
   "id": "d7a659b8-f13c-454c-915f-362a4e7f4b60",
   "metadata": {},
   "source": [
    "# Coding Language Learning Game:"
   ]
  },
  {
   "cell_type": "code",
   "execution_count": 1,
   "id": "b2ae60fd-c321-4d53-93e4-e7efdcd08788",
   "metadata": {},
   "outputs": [
    {
     "name": "stdout",
     "output_type": "stream",
     "text": [
      "Welcome to the Coding Language Learning Game!\n"
     ]
    },
    {
     "name": "stdin",
     "output_type": "stream",
     "text": [
      "Select difficulty (easy, medium, hard):  easy\n"
     ]
    },
    {
     "name": "stdout",
     "output_type": "stream",
     "text": [
      "\n",
      "Code Snippet:\n",
      "print(2 + 3)\n"
     ]
    },
    {
     "name": "stdin",
     "output_type": "stream",
     "text": [
      "Your Guess:  5\n"
     ]
    },
    {
     "name": "stdout",
     "output_type": "stream",
     "text": [
      "Correct! You earned 10 points.\n",
      "Lives remaining: 3\n",
      "Your current score: 10\n"
     ]
    },
    {
     "name": "stdin",
     "output_type": "stream",
     "text": [
      "Do you want to play again? (y/n):  n\n"
     ]
    },
    {
     "name": "stdout",
     "output_type": "stream",
     "text": [
      "Your final score: 10\n"
     ]
    }
   ],
   "source": [
    "import random\n",
    "import time\n",
    "\n",
    "# Dictionary containing Python code snippets and their expected outputs\n",
    "code_snippets = {\n",
    "    \"print('Hello, world!')\": \"Hello, world!\",\n",
    "    \"print(2 + 3)\": \"5\",\n",
    "    \"print('Python' + ' is ' + 'fun')\": \"Python is fun\",\n",
    "    \"numbers = [1, 2, 3, 4, 5]\\nprint(numbers)\": \"[1, 2, 3, 4, 5]\",\n",
    "    \"num1 = 10\\nnum2 = 5\\nprint(num1 * num2)\": \"50\",\n",
    "    \"def fibonacci(n):\\n    if n <= 0:\\n        return 'Invalid input'\\n    elif n == 1:\\n        return 0\\n    elif n == 2:\\n        return 1\\n    else:\\n        return fibonacci(n-1) + fibonacci(n-2)\\nprint(fibonacci(6))\": \"5\",\n",
    "}\n",
    "\n",
    "# Difficulty levels with corresponding sets of code snippets\n",
    "difficulty_levels = {\n",
    "    \"easy\": [\"print('Hello, world!')\", \"print(2 + 3)\"],\n",
    "    \"medium\": [\"print('Python' + ' is ' + 'fun')\", \"numbers = [1, 2, 3, 4, 5]\\nprint(numbers)\"],\n",
    "    \"hard\": [\"num1 = 10\\nnum2 = 5\\nprint(num1 * num2)\", \"def fibonacci(n):\\n    if n <= 0:\\n        return 'Invalid input'\\n    elif n == 1:\\n        return 0\\n    elif n == 2:\\n        return 1\\n    else:\\n        return fibonacci(n-1) + fibonacci(n-2)\\nprint(fibonacci(6))\"]\n",
    "}\n",
    "\n",
    "\n",
    "def get_random_code_snippet(difficulty):\n",
    "    \"\"\"Return a random Python code snippet based on the selected difficulty.\"\"\"\n",
    "    return random.choice(difficulty_levels[difficulty])\n",
    "\n",
    "\n",
    "def main():\n",
    "    print(\"Welcome to the Coding Language Learning Game!\")\n",
    "    difficulty = input(\"Select difficulty (easy, medium, hard): \").lower()\n",
    "\n",
    "    # Initialize game settings\n",
    "    lives = 3\n",
    "    score = 0\n",
    "    time_limit = 45  # Time limit in seconds for each code snippet\n",
    "\n",
    "    while True:\n",
    "        code_snippet = get_random_code_snippet(difficulty)\n",
    "        expected_output = code_snippets[code_snippet]\n",
    "\n",
    "        print(\"\\nCode Snippet:\")\n",
    "        print(code_snippet)\n",
    "\n",
    "        start_time = time.time()\n",
    "        user_guess = input(\"Your Guess: \")\n",
    "\n",
    "        elapsed_time = time.time() - start_time\n",
    "        if elapsed_time > time_limit:\n",
    "            print(f\"Time's up! The correct output was: {expected_output}\")\n",
    "            lives -= 1\n",
    "        elif user_guess == expected_output:\n",
    "            print(\"Correct! You earned 10 points.\")\n",
    "            score += 10\n",
    "        else:\n",
    "            print(f\"Oops! The correct output was: {expected_output}\")\n",
    "            lives -= 1\n",
    "\n",
    "        if lives == 0:\n",
    "            print(\"Game Over! You've run out of lives.\")\n",
    "            break\n",
    "\n",
    "        print(f\"Lives remaining: {lives}\")\n",
    "        print(f\"Your current score: {score}\")\n",
    "\n",
    "        play_again = input(\"Do you want to play again? (y/n): \")\n",
    "        if play_again.lower() != \"y\":\n",
    "            break\n",
    "\n",
    "    print(f\"Your final score: {score}\")\n",
    "\n",
    "\n",
    "if __name__ == \"__main__\":\n",
    "    main()"
   ]
  },
  {
   "cell_type": "code",
   "execution_count": null,
   "id": "3f85f390-527c-4975-847e-fee02b99655c",
   "metadata": {},
   "outputs": [],
   "source": []
  }
 ],
 "metadata": {
  "kernelspec": {
   "display_name": "Python 3 (ipykernel)",
   "language": "python",
   "name": "python3"
  },
  "language_info": {
   "codemirror_mode": {
    "name": "ipython",
    "version": 3
   },
   "file_extension": ".py",
   "mimetype": "text/x-python",
   "name": "python",
   "nbconvert_exporter": "python",
   "pygments_lexer": "ipython3",
   "version": "3.12.3"
  }
 },
 "nbformat": 4,
 "nbformat_minor": 5
}
