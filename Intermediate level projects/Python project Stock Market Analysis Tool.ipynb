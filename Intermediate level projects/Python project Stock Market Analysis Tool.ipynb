{
 "cells": [
  {
   "cell_type": "markdown",
   "id": "494f964e-0091-41e0-be47-8b72241368c1",
   "metadata": {},
   "source": [
    "# Text-Based Adventure Game"
   ]
  },
  {
   "cell_type": "code",
   "execution_count": null,
   "id": "3210acb7-c8cb-472d-80bb-ed414cfb1f7c",
   "metadata": {},
   "outputs": [
    {
     "name": "stdout",
     "output_type": "stream",
     "text": [
      "Welcome to the Forest Adventure!\n",
      "You find yourself in a dark forest. You have two paths in front of you.\n"
     ]
    }
   ],
   "source": [
    "class AdventureGame:\n",
    "    def __init__(self):\n",
    "        # Initialize the game and start it\n",
    "        self.game_over = False\n",
    "        self.start()\n",
    "\n",
    "    def start(self):\n",
    "        # Display the welcome message and initial choices\n",
    "        print(\"Welcome to the Forest Adventure!\")\n",
    "        print(\"You find yourself in a dark forest. You have two paths in front of you.\")\n",
    "        self.first_choice()\n",
    "\n",
    "    def first_choice(self):\n",
    "        # Prompt the player to choose a path\n",
    "        choice = input(\"Do you want to go left or right? (left/right): \").lower()\n",
    "        if choice == \"left\":\n",
    "            self.left_path()\n",
    "        elif choice == \"right\":\n",
    "            self.right_path()\n",
    "        else:\n",
    "            # Handle invalid input and prompt again\n",
    "            print(\"Invalid choice. Please choose again.\")\n",
    "            self.first_choice()\n",
    "\n",
    "    def left_path(self):\n",
    "        # Scenario for the left path\n",
    "        print(\"You take the left path and encounter a wild animal.\")\n",
    "        choice = input(\"Do you want to run or fight? (run/fight): \").lower()\n",
    "        if choice == \"run\":\n",
    "            # Player chooses to run and wins\n",
    "            print(\"You run away safely and find a hidden treasure!\")\n",
    "            self.end_game(True)\n",
    "        elif choice == \"fight\":\n",
    "            # Player chooses to fight and loses\n",
    "            print(\"You try to fight the animal but it overpowers you.\")\n",
    "            self.end_game(False)\n",
    "        else:\n",
    "            # Handle invalid input and prompt again\n",
    "            print(\"Invalid choice. Please choose again.\")\n",
    "            self.left_path()\n",
    "\n",
    "    def right_path(self):\n",
    "        # Scenario for the right path\n",
    "        print(\"You take the right path and find a peaceful clearing.\")\n",
    "        choice = input(\"Do you want to rest or explore? (rest/explore): \").lower()\n",
    "        if choice == \"rest\":\n",
    "            # Player chooses to rest and wins\n",
    "            print(\"You rest and regain your strength. You then find a map leading to a treasure!\")\n",
    "            self.end_game(True)\n",
    "        elif choice == \"explore\":\n",
    "            # Player chooses to explore and loses\n",
    "            print(\"You explore the clearing and fall into a hidden trap.\")\n",
    "            self.end_game(False)\n",
    "        else:\n",
    "            # Handle invalid input and prompt again\n",
    "            print(\"Invalid choice. Please choose again.\")\n",
    "            self.right_path()\n",
    "\n",
    "    def end_game(self, won):\n",
    "        # Display the end game message based on whether the player won or lost\n",
    "        if won:\n",
    "            print(\"Congratulations! You have successfully completed the adventure and found the treasure!\")\n",
    "        else:\n",
    "            print(\"Game Over. Better luck next time.\")\n",
    "        self.play_again()\n",
    "\n",
    "    def play_again(self):\n",
    "        # Prompt the player to play again or exit\n",
    "        choice = input(\"Do you want to play again? (yes/no): \").lower()\n",
    "        if choice == \"yes\":\n",
    "            self.start()\n",
    "        elif choice == \"no\":\n",
    "            print(\"Thank you for playing the Forest Adventure! Goodbye!\")\n",
    "            self.game_over = True\n",
    "        else:\n",
    "            # Handle invalid input and prompt again\n",
    "            print(\"Invalid choice. Please choose again.\")\n",
    "            self.play_again()\n",
    "\n",
    "\n",
    "if __name__ == \"__main__\":\n",
    "    # Create an instance of the game and start it\n",
    "    game = AdventureGame()\n"
   ]
  },
  {
   "cell_type": "code",
   "execution_count": null,
   "id": "ad3bfde8-5efe-42b2-a3c5-72b5e7d15e94",
   "metadata": {},
   "outputs": [],
   "source": []
  }
 ],
 "metadata": {
  "kernelspec": {
   "display_name": "Python 3 (ipykernel)",
   "language": "python",
   "name": "python3"
  },
  "language_info": {
   "codemirror_mode": {
    "name": "ipython",
    "version": 3
   },
   "file_extension": ".py",
   "mimetype": "text/x-python",
   "name": "python",
   "nbconvert_exporter": "python",
   "pygments_lexer": "ipython3",
   "version": "3.12.3"
  }
 },
 "nbformat": 4,
 "nbformat_minor": 5
}
