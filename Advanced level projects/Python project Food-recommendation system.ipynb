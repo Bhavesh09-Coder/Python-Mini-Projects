{
 "cells": [
  {
   "cell_type": "markdown",
   "id": "d7a659b8-f13c-454c-915f-362a4e7f4b60",
   "metadata": {},
   "source": [
    "# Food-recommendation system:"
   ]
  },
  {
   "cell_type": "markdown",
   "id": "34c1644d-6408-43ee-b031-d91eab6ed15a",
   "metadata": {},
   "source": [
    "# recipes.csv:"
   ]
  },
  {
   "cell_type": "code",
   "execution_count": null,
   "id": "4a145ba7-91c1-48ef-a8d9-8a834d95c17c",
   "metadata": {},
   "outputs": [],
   "source": [
    "recipe_id,recipe_name,ingredients,dietary_restrictions\n",
    "1,Spaghetti Bolognese,spaghetti,tomato,beef,onion,garlic,gluten\n",
    "2,Vegetable Stir Fry,rice,carrot,broccoli,soy sauce,garlic,vegetarian,vegan\n",
    "3,Chicken Salad,chicken,lettuce,tomato,cucumber,dairy-free\n",
    "4,Beef Tacos,beef,tortilla,cheese,tomato,lettuce,gluten\n",
    "5,Tofu Curry,tofu,coconut milk,curry paste,spinach,vegetarian,vegan\n"
   ]
  },
  {
   "cell_type": "markdown",
   "id": "d5bd8e83-b8d0-418b-a4c9-c581ef6f7c4a",
   "metadata": {},
   "source": [
    "# user_preferences.csv:"
   ]
  },
  {
   "cell_type": "code",
   "execution_count": null,
   "id": "4682d0af-eeeb-4f83-8c4b-6e2e71b46cb9",
   "metadata": {},
   "outputs": [],
   "source": [
    "user_id,preferred_ingredients,disliked_ingredients,dietary_restrictions\n",
    "1,tomato,garlic,gluten\n",
    "2,broccoli,onion,vegetarian\n",
    "3,lettuce,beef,dairy-free"
   ]
  },
  {
   "cell_type": "markdown",
   "id": "f5b0a811-81ef-40c7-a91e-28ab47d5810e",
   "metadata": {},
   "source": [
    "# Recommendation System Code"
   ]
  },
  {
   "cell_type": "code",
   "execution_count": null,
   "id": "b2ae60fd-c321-4d53-93e4-e7efdcd08788",
   "metadata": {},
   "outputs": [],
   "source": [
    "import pandas as pd\n",
    "\n",
    "class FoodRecommendationSystem:\n",
    "    def __init__(self, recipes_file, user_prefs_file):\n",
    "        self.recipes = pd.read_csv(recipes_file)\n",
    "        self.user_prefs = pd.read_csv(user_prefs_file)\n",
    "    \n",
    "    def get_recommendations(self, user_id):\n",
    "        user_pref = self.user_prefs[self.user_prefs['user_id'] == user_id]\n",
    "        if user_pref.empty:\n",
    "            print(f\"No preferences found for user ID: {user_id}\")\n",
    "            return []\n",
    "        \n",
    "        preferred_ingredients = user_pref['preferred_ingredients'].values[0].split(',')\n",
    "        disliked_ingredients = user_pref['disliked_ingredients'].values[0].split(',')\n",
    "        dietary_restrictions = user_pref['dietary_restrictions'].values[0].split(',')\n",
    "        \n",
    "        def filter_recipes(row):\n",
    "            ingredients = row['ingredients'].split(',')\n",
    "            restrictions = row['dietary_restrictions'].split(',')\n",
    "            \n",
    "            # Check if any disliked ingredients are in the recipe\n",
    "            if any(ingredient in ingredients for ingredient in disliked_ingredients):\n",
    "                return False\n",
    "            \n",
    "            # Check dietary restrictions\n",
    "            if not all(restriction in restrictions for restriction in dietary_restrictions):\n",
    "                return False\n",
    "            \n",
    "            # Check if any preferred ingredients are in the recipe\n",
    "            if any(ingredient in ingredients for ingredient in preferred_ingredients):\n",
    "                return True\n",
    "            \n",
    "            return False\n",
    "        \n",
    "        recommended_recipes = self.recipes[self.recipes.apply(filter_recipes, axis=1)]\n",
    "        \n",
    "        return recommended_recipes\n",
    "    \n",
    "    def display_recommendations(self, user_id):\n",
    "        recommendations = self.get_recommendations(user_id)\n",
    "        if recommendations.empty:\n",
    "            print(\"No recommendations available.\")\n",
    "        else:\n",
    "            print(f\"Recommendations for User {user_id}:\")\n",
    "            for idx, row in recommendations.iterrows():\n",
    "                print(f\"- {row['recipe_name']}\")\n",
    "\n",
    "if __name__ == \"__main__\":\n",
    "    recommender = FoodRecommendationSystem('recipes.csv', 'user_preferences.csv')\n",
    "    user_id = int(input(\"Enter User ID: \"))\n",
    "    recommender.display_recommendations(user_id)\n"
   ]
  }
 ],
 "metadata": {
  "kernelspec": {
   "display_name": "Python 3 (ipykernel)",
   "language": "python",
   "name": "python3"
  },
  "language_info": {
   "codemirror_mode": {
    "name": "ipython",
    "version": 3
   },
   "file_extension": ".py",
   "mimetype": "text/x-python",
   "name": "python",
   "nbconvert_exporter": "python",
   "pygments_lexer": "ipython3",
   "version": "3.12.3"
  }
 },
 "nbformat": 4,
 "nbformat_minor": 5
}
