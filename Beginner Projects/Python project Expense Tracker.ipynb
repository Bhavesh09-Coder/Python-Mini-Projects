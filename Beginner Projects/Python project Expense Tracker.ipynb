{
 "cells": [
  {
   "cell_type": "markdown",
   "id": "b7483271-2ccd-4104-99f5-a4e957e12188",
   "metadata": {},
   "source": [
    "# Expense Tracker:"
   ]
  },
  {
   "cell_type": "code",
   "execution_count": null,
   "id": "ad3bfde8-5efe-42b2-a3c5-72b5e7d15e94",
   "metadata": {},
   "outputs": [
    {
     "name": "stdout",
     "output_type": "stream",
     "text": [
      "\n",
      "Expense Tracker Menu:\n",
      "1. Add Expense\n",
      "2. Display Expenses\n",
      "3. Exit\n"
     ]
    }
   ],
   "source": [
    "class ExpenseTracker:\n",
    "    def __init__(self):\n",
    "        # Initialize an empty list to store expenses\n",
    "        self.expenses = []\n",
    "\n",
    "    def add_expense(self, description, amount):\n",
    "        \"\"\"\n",
    "        Adds an expense to the tracker.\n",
    "\n",
    "        :param description: A brief description of the expense\n",
    "        :param amount: The amount spent on the expense\n",
    "        \"\"\"\n",
    "        if amount <= 0:\n",
    "            print(\"Amount should be greater than zero.\")\n",
    "            return\n",
    "        \n",
    "        # Append a tuple of description and amount to the expenses list\n",
    "        self.expenses.append((description, amount))\n",
    "        print(f\"Added expense: {description} - ${amount}\")\n",
    "\n",
    "    def get_total_expenses(self):\n",
    "        \"\"\"\n",
    "        Calculates and returns the total amount of all expenses.\n",
    "\n",
    "        :return: Total amount of all expenses\n",
    "        \"\"\"\n",
    "        total = sum(amount for description, amount in self.expenses)\n",
    "        return total\n",
    "\n",
    "    def display_expenses(self):\n",
    "        \"\"\"\n",
    "        Displays all the expenses in a readable format.\n",
    "        \"\"\"\n",
    "        print(\"Expense List:\")\n",
    "        for description, amount in self.expenses:\n",
    "            print(f\"{description}: ${amount}\")\n",
    "        print(f\"Total Expenses: ${self.get_total_expenses()}\")\n",
    "\n",
    "\n",
    "if __name__ == \"__main__\":\n",
    "    tracker = ExpenseTracker()\n",
    "    \n",
    "    while True:\n",
    "        print(\"\\nExpense Tracker Menu:\")\n",
    "        print(\"1. Add Expense\")\n",
    "        print(\"2. Display Expenses\")\n",
    "        print(\"3. Exit\")\n",
    "        choice = input(\"Choose an option: \")\n",
    "\n",
    "        if choice == '1':\n",
    "            description = input(\"Enter expense description: \")\n",
    "            try:\n",
    "                amount = float(input(\"Enter amount: \"))\n",
    "                tracker.add_expense(description, amount)\n",
    "            except ValueError:\n",
    "                print(\"Invalid amount. Please enter a number.\")\n",
    "        elif choice == '2':\n",
    "            tracker.display_expenses()\n",
    "        elif choice == '3':\n",
    "            print(\"Exiting Expense Tracker. Goodbye!\")\n",
    "            break\n",
    "        else:\n",
    "            print(\"Invalid choice. Please select a valid option.\")\n"
   ]
  },
  {
   "cell_type": "code",
   "execution_count": null,
   "id": "ed9dee46-deeb-4716-87f8-5f5e7fe75d0a",
   "metadata": {},
   "outputs": [],
   "source": []
  }
 ],
 "metadata": {
  "kernelspec": {
   "display_name": "Python 3 (ipykernel)",
   "language": "python",
   "name": "python3"
  },
  "language_info": {
   "codemirror_mode": {
    "name": "ipython",
    "version": 3
   },
   "file_extension": ".py",
   "mimetype": "text/x-python",
   "name": "python",
   "nbconvert_exporter": "python",
   "pygments_lexer": "ipython3",
   "version": "3.12.3"
  }
 },
 "nbformat": 4,
 "nbformat_minor": 5
}
