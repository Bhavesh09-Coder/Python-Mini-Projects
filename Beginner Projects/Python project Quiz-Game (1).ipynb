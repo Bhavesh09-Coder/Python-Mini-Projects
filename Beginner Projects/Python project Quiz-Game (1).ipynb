{
 "cells": [
  {
   "cell_type": "markdown",
   "id": "d7a659b8-f13c-454c-915f-362a4e7f4b60",
   "metadata": {},
   "source": [
    "# Quiz-Game:"
   ]
  },
  {
   "cell_type": "code",
   "execution_count": null,
   "id": "b2ae60fd-c321-4d53-93e4-e7efdcd08788",
   "metadata": {},
   "outputs": [
    {
     "name": "stdout",
     "output_type": "stream",
     "text": [
      "Welcome to the Quiz Game!\n",
      "What is 2 + 2?\n",
      "A. 3\n",
      "B. 4\n",
      "C. 5\n",
      "D. 6\n"
     ]
    }
   ],
   "source": [
    "import random\n",
    "\n",
    "def load_questions():\n",
    "    \"\"\"\n",
    "    Load the quiz questions.\n",
    "    \n",
    "    :return: A list of dictionaries containing questions and their options.\n",
    "    \"\"\"\n",
    "    questions = [\n",
    "        {\n",
    "            \"question\": \"What is the capital of France?\",\n",
    "            \"options\": [\"A. Paris\", \"B. London\", \"C. Rome\", \"D. Berlin\"],\n",
    "            \"answer\": \"A\"\n",
    "        },\n",
    "        {\n",
    "            \"question\": \"What is 2 + 2?\",\n",
    "            \"options\": [\"A. 3\", \"B. 4\", \"C. 5\", \"D. 6\"],\n",
    "            \"answer\": \"B\"\n",
    "        },\n",
    "        {\n",
    "            \"question\": \"Which planet is known as the Red Planet?\",\n",
    "            \"options\": [\"A. Earth\", \"B. Mars\", \"C. Jupiter\", \"D. Saturn\"],\n",
    "            \"answer\": \"B\"\n",
    "        },\n",
    "        {\n",
    "            \"question\": \"What is the largest ocean on Earth?\",\n",
    "            \"options\": [\"A. Atlantic Ocean\", \"B. Indian Ocean\", \"C. Arctic Ocean\", \"D. Pacific Ocean\"],\n",
    "            \"answer\": \"D\"\n",
    "        },\n",
    "        {\n",
    "            \"question\": \"Who wrote 'To Kill a Mockingbird'?\",\n",
    "            \"options\": [\"A. Harper Lee\", \"B. Jane Austen\", \"C. J.K. Rowling\", \"D. Mark Twain\"],\n",
    "            \"answer\": \"A\"\n",
    "        }\n",
    "    ]\n",
    "    return questions\n",
    "\n",
    "def ask_question(question):\n",
    "    \"\"\"\n",
    "    Ask a single question to the user.\n",
    "    \n",
    "    :param question: A dictionary containing the question, options, and correct answer.\n",
    "    :return: True if the user answered correctly, False otherwise.\n",
    "    \"\"\"\n",
    "    print(question[\"question\"])\n",
    "    for option in question[\"options\"]:\n",
    "        print(option)\n",
    "    user_answer = input(\"Enter your answer (A, B, C, or D): \").strip().upper()\n",
    "    return user_answer == question[\"answer\"]\n",
    "\n",
    "def quiz():\n",
    "    \"\"\"\n",
    "    Run the quiz game.\n",
    "    \"\"\"\n",
    "    print(\"Welcome to the Quiz Game!\")\n",
    "    questions = load_questions()\n",
    "    random.shuffle(questions)  # Shuffle questions for a different order each time\n",
    "\n",
    "    score = 0\n",
    "    for question in questions:\n",
    "        if ask_question(question):\n",
    "            print(\"Correct!\")\n",
    "            score += 1\n",
    "        else:\n",
    "            print(f\"Wrong! The correct answer was {question['answer']}.\")\n",
    "        print()  # Print a blank line for better readability\n",
    "\n",
    "    print(f\"Quiz over! Your final score is {score} out of {len(questions)}.\")\n",
    "\n",
    "if __name__ == \"__main__\":\n",
    "    quiz()\n"
   ]
  },
  {
   "cell_type": "code",
   "execution_count": null,
   "id": "3f85f390-527c-4975-847e-fee02b99655c",
   "metadata": {},
   "outputs": [],
   "source": []
  }
 ],
 "metadata": {
  "kernelspec": {
   "display_name": "Python 3 (ipykernel)",
   "language": "python",
   "name": "python3"
  },
  "language_info": {
   "codemirror_mode": {
    "name": "ipython",
    "version": 3
   },
   "file_extension": ".py",
   "mimetype": "text/x-python",
   "name": "python",
   "nbconvert_exporter": "python",
   "pygments_lexer": "ipython3",
   "version": "3.12.3"
  }
 },
 "nbformat": 4,
 "nbformat_minor": 5
}
