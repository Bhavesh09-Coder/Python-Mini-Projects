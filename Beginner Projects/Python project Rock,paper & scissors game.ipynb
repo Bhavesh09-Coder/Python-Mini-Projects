{
 "cells": [
  {
   "cell_type": "markdown",
   "id": "d7a659b8-f13c-454c-915f-362a4e7f4b60",
   "metadata": {},
   "source": [
    "# Rock,paper & Scissors game:"
   ]
  },
  {
   "cell_type": "code",
   "execution_count": null,
   "id": "ad3bfde8-5efe-42b2-a3c5-72b5e7d15e94",
   "metadata": {},
   "outputs": [
    {
     "name": "stdout",
     "output_type": "stream",
     "text": [
      "Welcome to Rock, Paper, Scissors!\n"
     ]
    }
   ],
   "source": [
    "import random\n",
    "\n",
    "def get_computer_choice():\n",
    "    choices = [\"rock\", \"paper\", \"scissors\"]\n",
    "    return random.choice(choices)\n",
    "\n",
    "def get_user_choice():\n",
    "    user_input = input(\"Enter your choice (rock, paper, scissors): \").lower()\n",
    "    while user_input not in [\"rock\", \"paper\", \"scissors\"]:\n",
    "        print(\"Invalid choice. Please choose again.\")\n",
    "        user_input = input(\"Enter your choice (rock, paper, scissors): \").lower()\n",
    "    return user_input\n",
    "\n",
    "def determine_winner(user_choice, computer_choice):\n",
    "    if user_choice == computer_choice:\n",
    "        return \"It's a tie!\"\n",
    "    elif (user_choice == \"rock\" and computer_choice == \"scissors\") or \\\n",
    "         (user_choice == \"paper\" and computer_choice == \"rock\") or \\\n",
    "         (user_choice == \"scissors\" and computer_choice == \"paper\"):\n",
    "        return \"You win!\"\n",
    "    else:\n",
    "        return \"You lose!\"\n",
    "\n",
    "def main():\n",
    "    print(\"Welcome to Rock, Paper, Scissors!\")\n",
    "    while True:\n",
    "        user_choice = get_user_choice()\n",
    "        computer_choice = get_computer_choice()\n",
    "        print(f\"Computer chose: {computer_choice}\")\n",
    "        \n",
    "        result = determine_winner(user_choice, computer_choice)\n",
    "        print(result)\n",
    "        \n",
    "        play_again = input(\"Do you want to play again? (yes/no): \").lower()\n",
    "        if play_again != \"yes\":\n",
    "            print(\"Thanks for playing!\")\n",
    "            break\n",
    "\n",
    "if __name__ == \"__main__\":\n",
    "    main()\n"
   ]
  },
  {
   "cell_type": "code",
   "execution_count": null,
   "id": "4a145ba7-91c1-48ef-a8d9-8a834d95c17c",
   "metadata": {},
   "outputs": [],
   "source": []
  }
 ],
 "metadata": {
  "kernelspec": {
   "display_name": "Python 3 (ipykernel)",
   "language": "python",
   "name": "python3"
  },
  "language_info": {
   "codemirror_mode": {
    "name": "ipython",
    "version": 3
   },
   "file_extension": ".py",
   "mimetype": "text/x-python",
   "name": "python",
   "nbconvert_exporter": "python",
   "pygments_lexer": "ipython3",
   "version": "3.12.3"
  }
 },
 "nbformat": 4,
 "nbformat_minor": 5
}
