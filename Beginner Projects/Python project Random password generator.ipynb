{
 "cells": [
  {
   "cell_type": "markdown",
   "id": "d7a659b8-f13c-454c-915f-362a4e7f4b60",
   "metadata": {},
   "source": [
    "# Random password generator:"
   ]
  },
  {
   "cell_type": "code",
   "execution_count": null,
   "id": "ad3bfde8-5efe-42b2-a3c5-72b5e7d15e94",
   "metadata": {},
   "outputs": [
    {
     "name": "stdout",
     "output_type": "stream",
     "text": [
      "Welcome to the Random Password Generator!\n"
     ]
    }
   ],
   "source": [
    "import random\n",
    "import string\n",
    "\n",
    "def generate_password(length, use_special_chars):\n",
    "    # Define the character sets\n",
    "    lowercase = string.ascii_lowercase\n",
    "    uppercase = string.ascii_uppercase\n",
    "    digits = string.digits\n",
    "    special_chars = string.punctuation if use_special_chars else ''\n",
    "\n",
    "    # Combine all character sets\n",
    "    all_characters = lowercase + uppercase + digits + special_chars\n",
    "\n",
    "    if length < 1 or not all_characters:\n",
    "        return \"Invalid input for password generation.\"\n",
    "\n",
    "    # Generate the password\n",
    "    password = ''.join(random.choice(all_characters) for _ in range(length))\n",
    "    return password\n",
    "\n",
    "def main():\n",
    "    print(\"Welcome to the Random Password Generator!\")\n",
    "\n",
    "    # Get user input for password criteria\n",
    "    length = int(input(\"Enter the desired length of the password: \"))\n",
    "    use_special_chars = input(\"Include special characters? (yes/no): \").strip().lower() == 'yes'\n",
    "\n",
    "    # Generate and display the password\n",
    "    password = generate_password(length, use_special_chars)\n",
    "    print(f\"Generated password: {password}\")\n",
    "\n",
    "if __name__ == \"__main__\":\n",
    "    main()\n"
   ]
  },
  {
   "cell_type": "code",
   "execution_count": null,
   "id": "4a145ba7-91c1-48ef-a8d9-8a834d95c17c",
   "metadata": {},
   "outputs": [],
   "source": []
  }
 ],
 "metadata": {
  "kernelspec": {
   "display_name": "Python 3 (ipykernel)",
   "language": "python",
   "name": "python3"
  },
  "language_info": {
   "codemirror_mode": {
    "name": "ipython",
    "version": 3
   },
   "file_extension": ".py",
   "mimetype": "text/x-python",
   "name": "python",
   "nbconvert_exporter": "python",
   "pygments_lexer": "ipython3",
   "version": "3.12.3"
  }
 },
 "nbformat": 4,
 "nbformat_minor": 5
}
